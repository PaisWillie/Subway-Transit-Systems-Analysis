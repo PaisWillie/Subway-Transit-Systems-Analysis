{
 "cells": [
  {
   "cell_type": "markdown",
   "id": "2d65a8a5-860e-41d8-ac27-fabb65da8243",
   "metadata": {},
   "source": [
    "# Graph Lab"
   ]
  },
  {
   "cell_type": "markdown",
   "id": "0287692e-0294-4c54-8ad3-c8d8425ab85c",
   "metadata": {},
   "source": [
    "## Header information:\n",
    "\n",
    "  - Author #1: Nathan Luong (luongn4@mcmaster.ca)\n",
    "  - Author #2: William Pai (paiw@mcmaster.ca)\n",
    "  - Gitlab URL: https://gitlab.cas.mcmaster.ca/luongn4/l1-graph-lab.git\n",
    "  - Avenue to Learn group name: Graph 01"
   ]
  },
  {
   "cell_type": "markdown",
   "id": "666b9a0b",
   "metadata": {},
   "source": [
    "## Week 1"
   ]
  },
  {
   "cell_type": "markdown",
   "id": "3239a503",
   "metadata": {},
   "source": [
    "### Importing Packages"
   ]
  },
  {
   "cell_type": "code",
   "execution_count": 1,
   "id": "4f5d574d",
   "metadata": {},
   "outputs": [],
   "source": [
    "from GraphModels import Node, DirectedEdge, EdgeWeightedDigraph\n",
    "from GraphParser import GraphParser\n",
    "from MetricExtractor import GraphMetricExtractor\n",
    "import matplotlib.pyplot as plt\n",
    "from shortest_paths.factory import ShortestPathFactory\n"
   ]
  },
  {
   "cell_type": "markdown",
   "id": "66f674a5",
   "metadata": {},
   "source": [
    "### Parsing Data"
   ]
  },
  {
   "cell_type": "code",
   "execution_count": 2,
   "id": "a67187d4",
   "metadata": {},
   "outputs": [],
   "source": [
    "parser = GraphParser()\n",
    "graph = parser.parseGraph(\"./_dataset/london.stations.csv\", \"./_dataset/london.connections.csv\")\n",
    "mapping = graph.getMapping()\n",
    "nodeData = graph.getNodeData()"
   ]
  },
  {
   "cell_type": "code",
   "execution_count": 3,
   "id": "93fe5ad2",
   "metadata": {},
   "outputs": [
    {
     "data": {
      "image/png": "[encoded data removed]",
      "text/plain": [
       "<Figure size 640x480 with 1 Axes>"
      ]
     },
     "metadata": {},
     "output_type": "display_data"
    }
   ],
   "source": [
    "metricExtractor = GraphMetricExtractor(graph)\n",
    "\n",
    "numOfNodes = metricExtractor.getNodeNum()\n",
    "numOfEdges = metricExtractor.getEdgeNum()\n",
    "averageDegree = metricExtractor.getNodeAverageDegree()\n",
    "\n",
    "# print(f\"Graph has {numOfNodes} nodes, {numOfEdges} edges with an average degree of {averageDegree}\")\n",
    "\n",
    "degreeDistribution = metricExtractor.getNodeDegreeDistribution()\n",
    "fig = plt.figure()\n",
    "ax = fig.add_axes([0,0,1,1])\n",
    "degree = degreeDistribution.keys()\n",
    "nodeNum = degreeDistribution.values()\n",
    "ax.set_title('Node Degrees vs Number of Node with such Degree')\n",
    "ax.bar(degree,nodeNum)\n",
    "plt.xlabel(\"Degrees\")\n",
    "plt.ylabel(\"Node Number\")\n",
    "plt.show()"
   ]
  },
  {
   "cell_type": "markdown",
   "id": "a4306dca",
   "metadata": {},
   "source": [
    "## Shortest Path Algorithms and Benchmarking\n",
    "\n",
    "**How to rank paths of the same length?**\n",
    "\n",
    "If multiple paths are discovered to be of the same length (in this case, distance fromstart to end), we rank them by the least number of line changes, as it requires the traveller to switch subways the least often. This is achieved by modifying the relax function to also keep track of the number of line changes. If the new path has the same distance as the old path, we compare the number of line changes. If the new path has less line changes, we update the path.\n",
    "\n",
    "**What are the right KPIs to measure?**\n",
    "\n",
    "The following code showcases the KPIs for the two shortest path algorithms. The KPI is a measure of the number of times the algorithm has to update the distance of a vertex. The lower the number of edges relaxed, the better the algorithm is.\n",
    "\n",
    "**What are the right cases (itineraries) to consider for this benchmark?**\n",
    "\n",
    "The best benchmark results are achieved when the itineraries have a starting and destination station that has more than one path to travel between them. For even better results, multiple paths that have the same length (total travel time) forces the algorithms to compute the total number of line changes. For the purposes for this lab, we will be randomly generating starting and ending stations. The benchmark will be run multiple times for each algorithm, and the average number of edges relaxed will be calculated."
   ]
  },
  {
   "cell_type": "code",
   "execution_count": 4,
   "id": "4c56e8d7",
   "metadata": {},
   "outputs": [],
   "source": [
    "import random\n",
    "random.seed(1659644754)"
   ]
  },
  {
   "cell_type": "code",
   "execution_count": 5,
   "id": "6d50aeb0",
   "metadata": {},
   "outputs": [],
   "source": [
    "dataset = {\n",
    "    \"1\": {\"start\": random.randrange(1, 300), \"end\": random.randrange(1, 300)},\n",
    "    \"2\": {\"start\": random.randrange(1, 300), \"end\": random.randrange(1, 300)},\n",
    "    \"3\": {\"start\": random.randrange(1, 300), \"end\": random.randrange(1, 300)},\n",
    "}"
   ]
  },
  {
   "cell_type": "code",
   "execution_count": 6,
   "id": "929e56fd",
   "metadata": {},
   "outputs": [],
   "source": [
    "from shortest_paths.interface import ShortestPathStrategy\n",
    "from Itinerary import Itinerary\n",
    "\n",
    "def multi_shortest_path(algo: ShortestPathStrategy, dataset: dict) -> dict:\n",
    "    result = {}\n",
    "    for k in dataset.keys():\n",
    "        itinerary = Itinerary(algo, dataset[k][\"start\"], dataset[k][\"end\"])\n",
    "        result[k] = itinerary.returnPath(graph, mapping, nodeData)[\"ops\"]\n",
    "    return result"
   ]
  },
  {
   "cell_type": "markdown",
   "id": "980fb805",
   "metadata": {},
   "source": [
    "### A Star Algorithm"
   ]
  },
  {
   "cell_type": "code",
   "execution_count": 7,
   "id": "b3354f1d",
   "metadata": {},
   "outputs": [
    {
     "data": {
      "text/plain": [
       "{'1': 17, '2': 28, '3': 41}"
      ]
     },
     "execution_count": 7,
     "metadata": {},
     "output_type": "execute_result"
    }
   ],
   "source": [
    "algo = ShortestPathFactory.build(\"A_Star\")\n",
    "a_star_results = multi_shortest_path(algo, dataset)\n",
    "a_star_results"
   ]
  },
  {
   "cell_type": "code",
   "execution_count": 8,
   "id": "84b7eb76",
   "metadata": {},
   "outputs": [
    {
     "data": {
      "text/plain": [
       "{'1': 17, '2': 28, '3': 41}"
      ]
     },
     "execution_count": 8,
     "metadata": {},
     "output_type": "execute_result"
    }
   ],
   "source": [
    "algo = ShortestPathFactory.build(\"A_Star\")\n",
    "a_star_rdesults = multi_shortest_path(algo, dataset)\n",
    "a_star_results"
   ]
  },
  {
   "cell_type": "markdown",
   "id": "26a4bb5e",
   "metadata": {},
   "source": [
    "### Pattern Choice and Justification\n",
    "\n",
    "To easily manage, integrate and control different ways to solve the shortest path problem on the graphs, our team decided to use the strategy pattern to implement the shortest path strategies.\n",
    "\n",
    "<div style=\"width:auto; height:auto; display:flex; justify-content:center; align-items:center\">\n",
    "    <img src=\"assets/FactoryUML.png\" alt=\"UML Diagram for Shortest Path Strategies\" width=\"600\"/>\n",
    "</div>\n",
    "\n",
    "#### Justification\n",
    "- Strategy pattern allows different shortest path algorithms to be added independently from the context. Strategies can exist on their own file which seperate the concern from the Itinerary class. \n",
    "- Factory Pattern abstractn the user away from strategy creation by initializing the strategy within the build function.\n",
    "- Users can choose whatever strategies they want on the same grah object without needing to understand how the algorithms are implemented. \n",
    "- Strategies development are isolated and controlled (recieve the same input and return the same output) which makes developing them easy and less prone to human error.\n",
    "  \n",
    "#### Benchmark result analysis\n",
    "\n",
    "#### Work\n",
    "Willie:\n",
    "- Benchmarking\n",
    "- Dijkstra Implementation\n",
    "- Testing\n",
    "\n",
    "Nathan: \n",
    "- Factory Pattern Implementation \n",
    "- A Star Implementation\n",
    "- Report + UML\n"
   ]
  },
  {
   "cell_type": "markdown",
   "id": "afaba4ac",
   "metadata": {},
   "source": [
    "### Benchmarking Execution Time"
   ]
  },
  {
   "cell_type": "code",
   "execution_count": 9,
   "id": "52e914d2",
   "metadata": {},
   "outputs": [
    {
     "name": "stdout",
     "output_type": "stream",
     "text": [
      "\u001b[32mCourtesy Notice\u001b[0m: Pipenv found itself running within a virtual environment, so it will automatically use that environment, instead of creating its own for any project. You can set \u001b[1mPIPENV_IGNORE_VIRTUALENVS=1\u001b[0m to force pipenv to ignore that environment and create its own instead. You can set \u001b[1mPIPENV_VERBOSITY=-1\u001b[0m to suppress this warning.\n",
      "DijkstraAlgo\n",
      "============\n",
      "\n",
      "1.17 ms: 1 ########\n",
      "1.20 ms: 1 ########\n",
      "1.22 ms: 2 ###############\n",
      "1.25 ms: 5 ######################################\n",
      "1.27 ms: 5 ######################################\n",
      "1.30 ms: 9 ####################################################################\n",
      "1.33 ms: 6 #############################################\n",
      "1.35 ms: 5 ######################################\n",
      "1.38 ms: 1 ########\n",
      "1.41 ms: 3 #######################\n",
      "1.43 ms: 3 #######################\n",
      "1.46 ms: 5 ######################################\n",
      "1.49 ms: 1 ########\n",
      "1.51 ms: 4 ##############################\n",
      "1.54 ms: 1 ########\n",
      "1.57 ms: 1 ########\n",
      "1.59 ms: 3 #######################\n",
      "1.62 ms: 1 ########\n",
      "1.65 ms: 0 |\n",
      "1.67 ms: 1 ########\n",
      "1.70 ms: 1 ########\n",
      "1.73 ms: 1 ########\n",
      "\n",
      "A_Star\n",
      "======\n",
      "\n",
      "314 us:  1 ######\n",
      "321 us:  2 ############\n",
      "329 us:  3 ###################\n",
      "336 us:  9 ########################################################\n",
      "344 us:  6 #####################################\n",
      "351 us:  4 #########################\n",
      "359 us: 11 ####################################################################\n",
      "366 us:  5 ###############################\n",
      "374 us:  6 #####################################\n",
      "381 us:  1 ######\n",
      "389 us:  5 ###############################\n",
      "396 us:  2 ############\n",
      "404 us:  0 |\n",
      "411 us:  1 ######\n",
      "419 us:  0 |\n",
      "426 us:  1 ######\n",
      "434 us:  0 |\n",
      "441 us:  2 ############\n",
      "448 us:  0 |\n",
      "456 us:  0 |\n",
      "463 us:  0 |\n",
      "471 us:  1 ######\n",
      "\n",
      "ConnectedIslands\n",
      "================\n",
      "\n",
      " 738 us: 5 ######################################\n",
      " 756 us: 1 ########\n",
      " 773 us: 6 #############################################\n",
      " 791 us: 2 ###############\n",
      " 808 us: 4 ##############################\n",
      " 826 us: 8 ############################################################\n",
      " 843 us: 9 ####################################################################\n",
      " 861 us: 4 ##############################\n",
      " 879 us: 2 ###############\n",
      " 896 us: 7 #####################################################\n",
      " 914 us: 1 ########\n",
      " 931 us: 1 ########\n",
      " 949 us: 2 ###############\n",
      " 966 us: 3 #######################\n",
      " 984 us: 0 |\n",
      "1.00 ms: 0 |\n",
      "1.02 ms: 1 ########\n",
      "1.04 ms: 2 ###############\n",
      "1.05 ms: 0 |\n",
      "1.07 ms: 1 ########\n",
      "1.09 ms: 0 |\n",
      "1.11 ms: 1 ########\n"
     ]
    }
   ],
   "source": [
    "from os.path import exists\n",
    "if not exists('outputs/pyperf_measurements.json'):\n",
    "    !{'pipenv run python benchmark.py -o outputs/pyperf_measurements.json'}\n",
    "!{'pipenv run python -m pyperf hist outputs/pyperf_measurements.json'}"
   ]
  },
  {
   "cell_type": "code",
   "execution_count": 10,
   "id": "a89387dd",
   "metadata": {},
   "outputs": [],
   "source": [
    "from pyperf import BenchmarkSuite\n",
    "\n",
    "def load_bench_measurements(name: str, json_filename: str) -> list[float]:\n",
    "    \"\"\"extract the values for a given benchmark\"\"\"\n",
    "    suite = BenchmarkSuite.load(json_filename)\n",
    "    bench = suite.get_benchmark(name)\n",
    "    return list(bench.get_values())"
   ]
  },
  {
   "cell_type": "code",
   "execution_count": 11,
   "id": "f2aa7248",
   "metadata": {},
   "outputs": [],
   "source": [
    "dijkstra_vals = load_bench_measurements('DijkstraAlgo', 'outputs/pyperf_measurements.json')\n",
    "a_star_vals = load_bench_measurements('A_Star', 'outputs/pyperf_measurements.json')"
   ]
  },
  {
   "cell_type": "code",
   "execution_count": 12,
   "id": "fa6c6c29",
   "metadata": {},
   "outputs": [],
   "source": [
    "def draw_hist(values: list[float], title: str, canvas):\n",
    "    canvas.set_title(title)\n",
    "    canvas.set(xlabel='exec time (s)', ylabel='|instances|')\n",
    "    canvas.hist(values, 20) # putting values into 10 beans"
   ]
  },
  {
   "cell_type": "code",
   "execution_count": 13,
   "id": "ee83ac71",
   "metadata": {},
   "outputs": [
    {
     "data": {
      "image/png": "[encoded data removed]",
      "text/plain": [
       "<Figure size 800x400 with 2 Axes>"
      ]
     },
     "metadata": {},
     "output_type": "display_data"
    }
   ],
   "source": [
    "fig, axes = plt.subplots(1,2, sharex = True, sharey= True)\n",
    "draw_hist(dijkstra_vals, \"Dijkstra's Algorithm\", axes[0]) \n",
    "draw_hist(a_star_vals, \"A Star Algorithm\", axes[1]) \n",
    "fig.set_size_inches(8,4)\n",
    "fig.tight_layout()\n",
    "fig.savefig('outputs/histogram_On2.pdf')"
   ]
  },
  {
   "cell_type": "code",
   "execution_count": 14,
   "id": "f38156fa",
   "metadata": {},
   "outputs": [
    {
     "data": {
      "image/png": "[encoded data removed]",
      "text/plain": [
       "<Figure size 1200x400 with 2 Axes>"
      ]
     },
     "metadata": {},
     "output_type": "display_data"
    }
   ],
   "source": [
    "fig, axes = plt.subplots(1,2, sharex = True, sharey= True)\n",
    "draw_hist(dijkstra_vals, \"Dijkstra's Algorithm\", axes[0]) \n",
    "draw_hist(a_star_vals, \"A Star Algorithm\", axes[1]) \n",
    "fig.set_size_inches(12,4)\n",
    "fig.tight_layout()\n",
    "fig.savefig('outputs/histogram_Onlogn.pdf')"
   ]
  },
  {
   "cell_type": "code",
   "execution_count": 15,
   "id": "7e88c133",
   "metadata": {},
   "outputs": [
    {
     "name": "stdout",
     "output_type": "stream",
     "text": [
      "86 connected components\n",
      "0: 0 43 57 58 153 159 168 203 252 \n",
      "1: 1 2 5 9 11 12 16 22 25 26 37 40 41 49 67 68 71 72 73 75 82 85 87 89 103 107 114 126 127 129 130 132 136 137 140 141 142 145 146 163 166 167 171 172 181 185 194 200 205 217 219 224 227 230 240 244 246 251 291 \n",
      "2: 3 21 24 29 30 36 50 55 102 116 135 143 150 175 188 196 199 207 213 222 243 250 258 261 272 292 300 301 \n",
      "3: 4 220 221 \n",
      "4: 6 \n",
      "5: 7 284 \n",
      "6: 8 34 78 104 109 \n",
      "7: 10 48 225 226 \n",
      "8: 13 236 \n",
      "9: 14 42 74 86 91 187 \n",
      "10: 15 84 92 128 131 182 190 198 211 249 259 \n",
      "11: 17 18 51 52 80 133 174 177 189 191 216 237 255 293 \n",
      "12: 19 53 54 \n",
      "13: 20 35 39 120 149 231 \n",
      "14: 23 195 228 241 \n",
      "15: 27 111 112 164 \n",
      "16: 28 \n",
      "17: 31 83 \n",
      "18: 32 \n",
      "19: 33 47 \n",
      "20: 38 212 \n",
      "21: 44 45 117 165 214 270 \n",
      "22: 46 \n",
      "23: 56 151 \n",
      "24: 59 \n",
      "25: 60 97 160 173 183 204 257 \n",
      "26: 61 108 197 262 \n",
      "27: 62 105 \n",
      "28: 63 \n",
      "29: 64 \n",
      "30: 65 \n",
      "31: 66 \n",
      "32: 69 \n",
      "33: 70 110 234 235 \n",
      "34: 76 144 254 268 281 \n",
      "35: 77 123 218 223 256 \n",
      "36: 79 169 178 253 \n",
      "37: 81 152 184 242 \n",
      "38: 88 170 \n",
      "39: 90 \n",
      "40: 93 \n",
      "41: 94 \n",
      "42: 95 215 264 \n",
      "43: 96 \n",
      "44: 98 \n",
      "45: 99 100 \n",
      "46: 101 \n",
      "47: 106 115 192 193 238 \n",
      "48: 113 \n",
      "49: 118 124 138 179 245 \n",
      "50: 119 \n",
      "51: 121 161 206 247 \n",
      "52: 122 \n",
      "53: 125 155 176 180 248 \n",
      "54: 134 \n",
      "55: 139 \n",
      "56: 147 \n",
      "57: 148 \n",
      "58: 154 208 279 \n",
      "59: 156 157 \n",
      "60: 158 \n",
      "61: 162 \n",
      "62: 186 \n",
      "63: 201 210 267 \n",
      "64: 202 265 266 \n",
      "65: 209 \n",
      "66: 229 \n",
      "67: 232 \n",
      "68: 233 269 \n",
      "69: 239 \n",
      "70: 260 \n",
      "71: 263 \n",
      "72: 271 \n",
      "73: 273 \n",
      "74: 274 \n",
      "75: 275 \n",
      "76: 276 \n",
      "77: 277 \n",
      "78: 278 \n",
      "79: 280 \n",
      "80: 282 283 \n",
      "81: 285 286 287 288 \n",
      "82: 289 \n",
      "83: 290 \n",
      "84: 294 \n",
      "85: 295 296 297 298 299 \n",
      "\n"
     ]
    }
   ],
   "source": [
    "from ConnectedIslands import ConnectedIslands\n",
    "\n",
    "connectedIslands = ConnectedIslands(graph)\n",
    "print(connectedIslands)"
   ]
  },
  {
   "cell_type": "code",
   "execution_count": 16,
   "id": "85ecaa23",
   "metadata": {},
   "outputs": [
    {
     "name": "stdout",
     "output_type": "stream",
     "text": [
      "['14', '42', '158', '231', '37', '9', '207', '147', '245', '238']\n",
      "[14, 9, 207, 147, 231, 245, 42, 238, 37, 158]\n"
     ]
    }
   ],
   "source": [
    "from Patrol import getPatrolPath\n",
    "stations = random.sample([graph.getNodeData()[x]['id'] for x in graph.getNodeIds()], 10)\n",
    "print(stations)\n",
    "result = getPatrolPath(graph, stations)\n",
    "print(result)"
   ]
  },
  {
   "cell_type": "markdown",
   "id": "20aca8a6",
   "metadata": {},
   "source": [
    "S - Single Responsibility\n",
    "- Each class is doing its thing. Patrol only get the patrolling path and Dijkastra onlt implement one version of the shortest path algorithm\n",
    "  \n",
    "O - Open/Closed\n",
    "- Developers can add new strategies without touching the umderline structure of the client code.\n",
    "  \n",
    "L - Liskov Substitution\n",
    "- ShortestPath exibit behaviour from its parent\n",
    "  \n",
    "I - Interface Segregation\n",
    "- All interfaces are seperated due to their own api to use\n",
    "  \n",
    "D - Dependecy Inversion\n",
    "- Adding more strategies into the system doesn't change the code of the ShortestPathStrategy Interface"
   ]
  },
  {
   "cell_type": "markdown",
   "id": "9d8a1d49",
   "metadata": {},
   "source": [
    "From benchmark code, We discorved that the performance of finding all connected island of the stations is dependent on the total number of stations and how the stations are categorized by zones. This is due to it effecting the number of DFS calls.\n",
    "\n",
    "From benchmark code, we discovered TSP performance is highly dependents on the size of input nodes. Since we need to run shortest path on every targeted Nodes and the permutations of them, the algorithms run in factorial time. "
   ]
  },
  {
   "cell_type": "markdown",
   "id": "b511d482",
   "metadata": {},
   "source": [
    "## Self Reflection (paiw/ Willie Pai)\n",
    "**1. Have you done a similar kind of work in the past?**\n",
    "  - Although I have had tons of experience developing programs with Python, I have not implemented any extensive algorithms from scratch. SFWRENG 2C03 has taught me the fundamentals of software algorithms, but it did not challenge me to implement these algorithms into real-world application, as this lab encourages me to do. I am indeed familiar with class structure in Python, as well as implementing abstract classes and using the Typing library to type variables.\n",
    "\n",
    "**2. How do you feel about this piece of work? What parts do you particularly like? Dislike? Why?**\n",
    "  - This lab definitely challenged me to think far and beyond the regular coding challenges that I attempt, as I had to think about how to incorporate a complex algorithm into an entire subway network. This forces me to make modifications to the algorithm to accomodate things like line changes and subway zones, which I enjoyed having to think about. Although I was very familiar with using Git version control, I disliked how there was lack of instructions to utilize GitLab to its full potential, which would have been very difficult for less-experienced programmers to figure out for the first time.\n",
    "\n",
    "**3. What is the one thing you particularly want people to notice about your work?**\n",
    " - I was able to successfully implement Dijkstra's algorithm to acommodate the minization of line changes when the same amount of travel time was found for two different paths. I achieved this by modifying the relax() function of Dijkstra's to compare the number of total line changes that a subway rider would have to make to reach a certain station from a starting location. Similar to the distTo attribute, it would store the total number of line changes, and make comparisons to alternative paths, relaxing an edge based on both distTo and lineChangesTo.\n",
    "\n",
    "**4. What would you change if you had the chance to do this project again?**\n",
    " - If I did this project again, I would have appreciated more lectures or tutorials that would help teach us use all these new tools and libraries that some of us have never experienced before. Although there was lecture material to refer to, it was still difficult to understand exactly what the code was doing, and how we could implement our own version of it to fit with our lab."
   ]
  },
  {
   "cell_type": "markdown",
   "id": "89d608e8",
   "metadata": {},
   "source": [
    "## Self Reflection (luongn4/ Nathan Luong)\n",
    "\n",
    "1. **Have you done a similar kind of work in the past?**\n",
    "  - I have created a library (in C++) before in the past but it was no where near the scale and complexity of this assignment. Thinking back, using git and gitlab to keep track of the versioning of work is crutial since all history are visible and reverseable. This assignment has taught me alot on how to colaborate with team member on a complicated project using git.\n",
    "  - None of my project from the past had detailed documentations as this one. Documentation along the way helps with clarifying complicated integrations of simple classes. UML is a good way to visualize such integration. \n",
    "2. **How do you fell about this piece of work? What parts do you particularly like? Dislike? Why?**\n",
    "  - Some OOP principle makes the code harder to implement. For example: The usage of Factory Pattern to map a string to a strategy. This could be simplify to an enum which maps a type to a strategy. However, the idea still works when abstracting away the class initialization from the user.\n",
    "  - I particularly like the benchmarking and testing aspect of the lab. Based on alot of my work in the past, the code returned the right output but I never take into consideration of its run time based on the size of the input. Having the benchmark quantify how good a piece of code is in relation to some baseline.\n",
    "3. **What is the one thing you particularly want people to notice about your work?**\n",
    "  - My work is easy to read and easy to pick up. For hard algorithms, I tend to add comments on every lines to explain what the algorithms is doing. I also use readable naming convention to avoid confusion. Our folder structure is also very intuitive to understand since all relevent files are group into a folder to seperate the functionality concern.\n",
    "4. **What would you change if you had the chance to do this project again?**\n",
    " - I would walk into this project with alot more preparation. Knowing some advance python methods would help along the way (permurtations, magic methods).\n",
    " - Merge conflicts has been a big problem for Willie and I when we trying to combine our work together. Merging code on a more regular basis would makes solving more easily due to less code being processed.\n",
    " - Improving my knowledge on how to comunicate outside of code would also bring cohesion to our communication workflow."
   ]
  },
  {
   "cell_type": "markdown",
   "id": "5e80c58c",
   "metadata": {},
   "source": []
  }
 ],
 "metadata": {
  "kernelspec": {
   "display_name": "Python 3.9.12 ('l1-graph-lab-dZDqc2TO')",
   "language": "python",
   "name": "python3"
  },
  "language_info": {
   "codemirror_mode": {
    "name": "ipython",
    "version": 3
   },
   "file_extension": ".py",
   "mimetype": "text/x-python",
   "name": "python",
   "nbconvert_exporter": "python",
   "pygments_lexer": "ipython3",
   "version": "3.9.12"
  },
  "vscode": {
   "interpreter": {
    "hash": "e235489472b0f3d64848b6256dc69c878581f86bc842c1ae36a85b92b600baee"
   }
  }
 },
 "nbformat": 4,
 "nbformat_minor": 5
}
